{
 "cells": [
  {
   "cell_type": "markdown",
   "id": "cc4fe251",
   "metadata": {},
   "source": [
    "# Step 1: Install FastAPI and Uvicorn\n",
    "\n",
    "First, install FastAPI and Uvicorn, which is an ASGI server for Python."
   ]
  },
  {
   "cell_type": "code",
   "execution_count": null,
   "id": "266fc7fe",
   "metadata": {},
   "outputs": [],
   "source": [
    "pip install fastapi uvicorn\n",
    "\n"
   ]
  },
  {
   "cell_type": "markdown",
   "id": "1bd7c56c",
   "metadata": {},
   "source": [
    "# Step 2: Create a Basic FastAPI Application\n",
    "Start by creating a basic FastAPI application. Create a file called main.py:"
   ]
  },
  {
   "cell_type": "code",
   "execution_count": 2,
   "id": "30baa3c7",
   "metadata": {},
   "outputs": [],
   "source": [
    "from fastapi import FastAPI\n",
    "\n",
    "app = FastAPI()\n",
    "\n",
    "@app.get(\"/\")\n",
    "def read_root():\n",
    "    return {\"Hello\": \"World\"}\n",
    "\n",
    "@app.get(\"/items/{item_id}\")\n",
    "def read_item(item_id: int, q: str = None):\n",
    "    return {\"item_id\": item_id, \"q\": q}\n"
   ]
  },
  {
   "cell_type": "markdown",
   "id": "af73d931",
   "metadata": {},
   "source": [
    "# Step 3: Run the Application\n",
    "Run the FastAPI application using Uvicorn:\n",
    "\n"
   ]
  },
  {
   "cell_type": "raw",
   "id": "3c6c1070",
   "metadata": {},
   "source": [
    "uvicorn main:app --reload\n"
   ]
  },
  {
   "cell_type": "markdown",
   "id": "905fa63e",
   "metadata": {},
   "source": [
    "# Step 4: Access the Interactive API Documentation\n",
    "FastAPI automatically generates interactive API documentation. You can access it at:\n",
    "\n",
    "Swagger UI: http://127.0.0.1:8000/docs\n",
    "ReDoc: http://127.0.0.1:8000/redoc"
   ]
  },
  {
   "cell_type": "markdown",
   "id": "1e9958c1",
   "metadata": {},
   "source": [
    "\n",
    "# Step 5: Add Metadata to Your API\n",
    "Enhance your documentation by adding metadata to your FastAPI application. Update main.py"
   ]
  },
  {
   "cell_type": "code",
   "execution_count": 3,
   "id": "ae4846c4",
   "metadata": {},
   "outputs": [],
   "source": [
    "app = FastAPI(\n",
    "    title=\"My FastAPI Application\",\n",
    "    description=\"This is a detailed documentation for my FastAPI application.\",\n",
    "    version=\"1.0.0\",\n",
    "    terms_of_service=\"http://example.com/terms/\",\n",
    "    contact={\n",
    "        \"name\": \"John Doe\",\n",
    "        \"url\": \"http://example.com/contact/\",\n",
    "        \"email\": \"johndoe@example.com\",\n",
    "    },\n",
    "    license_info={\n",
    "        \"name\": \"Apache 2.0\",\n",
    "        \"url\": \"http://www.apache.org/licenses/LICENSE-2.0.html\",\n",
    "    },\n",
    ")\n"
   ]
  },
  {
   "cell_type": "markdown",
   "id": "372cf2aa",
   "metadata": {},
   "source": [
    "# Step 6: Documenting Endpoints with Docstrings and Pydantic Models\n",
    "Use docstrings and Pydantic models to document your endpoints and request/response bodies."
   ]
  },
  {
   "cell_type": "code",
   "execution_count": 4,
   "id": "d59feb5f",
   "metadata": {},
   "outputs": [],
   "source": [
    "from pydantic import BaseModel\n",
    "from typing import Optional\n",
    "\n",
    "class Item(BaseModel):\n",
    "    name: str\n",
    "    description: Optional[str] = None\n",
    "    price: float\n",
    "    tax: Optional[float] = None\n",
    "\n",
    "@app.post(\"/items/\", response_model=Item)\n",
    "def create_item(item: Item):\n",
    "    \"\"\"\n",
    "    Create an item with all the information:\n",
    "\n",
    "    - **name**: each item must have a name\n",
    "    - **description**: a long description of the item\n",
    "    - **price**: required price of the item\n",
    "    - **tax**: optional tax percentage\n",
    "    \"\"\"\n",
    "    return item\n"
   ]
  },
  {
   "cell_type": "markdown",
   "id": "4da85b0c",
   "metadata": {},
   "source": [
    "# Step 7: Add Tags for Endpoints\n",
    "Organize your endpoints by adding tags. This helps in grouping related endpoints together."
   ]
  },
  {
   "cell_type": "code",
   "execution_count": 5,
   "id": "d436c656",
   "metadata": {},
   "outputs": [],
   "source": [
    "@app.get(\"/\", tags=[\"Root\"])\n",
    "def read_root():\n",
    "    return {\"Hello\": \"World\"}\n",
    "\n",
    "@app.get(\"/items/{item_id}\", tags=[\"Items\"])\n",
    "def read_item(item_id: int, q: str = None):\n",
    "    return {\"item_id\": item_id, \"q\": q}\n",
    "\n",
    "@app.post(\"/items/\", tags=[\"Items\"])\n",
    "def create_item(item: Item):\n",
    "    return item\n"
   ]
  },
  {
   "cell_type": "markdown",
   "id": "64c42346",
   "metadata": {},
   "source": [
    "# Step 8: Add Summary and Description\n",
    "Enhance your endpoint documentation by adding a summary and description."
   ]
  },
  {
   "cell_type": "code",
   "execution_count": 6,
   "id": "19f9b31f",
   "metadata": {},
   "outputs": [],
   "source": [
    "@app.get(\"/items/{item_id}\", tags=[\"Items\"], summary=\"Read an Item\", description=\"Get the item by its ID\")\n",
    "def read_item(item_id: int, q: str = None):\n",
    "    return {\"item_id\": item_id, \"q\": q}\n"
   ]
  },
  {
   "cell_type": "markdown",
   "id": "839a41d6",
   "metadata": {},
   "source": [
    "# Step 9: Adding Examples to Request and Response Bodies\n",
    "You can add examples to your request and response bodies for better understanding."
   ]
  },
  {
   "cell_type": "code",
   "execution_count": 8,
   "id": "4e6dc3e4",
   "metadata": {},
   "outputs": [],
   "source": [
    "class Item(BaseModel):\n",
    "    name: str\n",
    "    description: Optional[str] = None\n",
    "    price: float\n",
    "    tax: Optional[float] = None\n",
    "\n",
    "    class Config:\n",
    "        schema_extra = {\n",
    "            \"example\": {\n",
    "                \"name\": \"Foo\",\n",
    "                \"description\": \"A very nice Item\",\n",
    "                \"price\": 35.4,\n",
    "                \"tax\": 3.2,\n",
    "            }\n",
    "        }\n",
    "\n",
    "@app.post(\"/items/\", response_model=Item)\n",
    "def create_item(item: Item):\n",
    "    \"\"\"\n",
    "    Create an item with all the information:\n",
    "\n",
    "    - **name**: each item must have a name\n",
    "    - **description**: a long description of the item\n",
    "    - **price**: required price of the item\n",
    "    - **tax**: optional tax percentage\n",
    "    \"\"\"\n",
    "    return item\n"
   ]
  },
  {
   "cell_type": "markdown",
   "id": "af8df8d9",
   "metadata": {},
   "source": [
    "# Step 10: Use Dependencies for Advanced Documentation\n",
    "You can document dependencies for authentication, authorization, etc."
   ]
  },
  {
   "cell_type": "code",
   "execution_count": null,
   "id": "0f5fdd7f",
   "metadata": {},
   "outputs": [],
   "source": [
    "from fastapi import Depends, HTTPException, status\n",
    "\n",
    "def verify_token(x_token: str = Depends(get_token_header)):\n",
    "    if x_token != \"fake-super-secret-token\":\n",
    "        raise HTTPException(\n",
    "            status_code=status.HTTP_401_UNAUTHORIZED,\n",
    "            detail=\"Invalid token\",\n",
    "        )\n",
    "\n",
    "@app.get(\"/users/me\", dependencies=[Depends(verify_token)], tags=[\"Users\"])\n",
    "def read_users_me():\n",
    "    return {\"username\": \"fakecurrentuser\"}\n"
   ]
  },
  {
   "cell_type": "markdown",
   "id": "0bb0ceb3",
   "metadata": {},
   "source": [
    "# Step 11: Versioning Your API\n",
    "Versioning helps in maintaining backward compatibility. Create a new file main_v2.py:"
   ]
  },
  {
   "cell_type": "code",
   "execution_count": 12,
   "id": "ebb736fe",
   "metadata": {},
   "outputs": [],
   "source": [
    "from fastapi import FastAPI\n",
    "\n",
    "app_v2 = FastAPI(\n",
    "    title=\"My FastAPI Application v2\",\n",
    "    description=\"This is version 2 of my FastAPI application.\",\n",
    "    version=\"2.0.0\"\n",
    ")\n",
    "\n",
    "@app.get(\"/v2/items/{item_id}\", tags=[\"Items v2\"], summary=\"Read an Item v2\", description=\"Get the item by its ID in v2\")\n",
    "def read_item_v2(item_id: int, q: str = None):\n",
    "    return {\"item_id\": item_id, \"q\": q}\n",
    "\n",
    "@app.post(\"/v2/items/\", tags=[\"Items v2\"])\n",
    "def create_item_v2(item: Item):\n",
    "    return item\n"
   ]
  },
  {
   "cell_type": "markdown",
   "id": "8f38bfeb",
   "metadata": {},
   "source": [
    "# Step 12: Integrating with SQLAlchemy for Database Management\n",
    "Integrate FastAPI with SQLAlchemy to handle database operations. Install necessary packages:"
   ]
  },
  {
   "cell_type": "code",
   "execution_count": null,
   "id": "eccdae8f",
   "metadata": {},
   "outputs": [],
   "source": [
    "pip install sqlalchemy databases\n",
    "\n",
    "\n"
   ]
  },
  {
   "cell_type": "markdown",
   "id": "54b94649",
   "metadata": {},
   "source": [
    "# Create a new file database.py:"
   ]
  },
  {
   "cell_type": "code",
   "execution_count": null,
   "id": "366e02c1",
   "metadata": {},
   "outputs": [],
   "source": [
    "from sqlalchemy import create_engine, Column, Integer, String, Float\n",
    "from sqlalchemy.ext.declarative import declarative_base\n",
    "from sqlalchemy.orm import sessionmaker\n",
    "\n",
    "SQLALCHEMY_DATABASE_URL = \"sqlite:///./test.db\"\n",
    "\n",
    "engine = create_engine(SQLALCHEMY_DATABASE_URL)\n",
    "SessionLocal = sessionmaker(autocommit=False, autoflush=False, bind=engine)\n",
    "\n",
    "Base = declarative_base()\n",
    "\n",
    "class Item(Base):\n",
    "    __tablename__ = \"items\"\n",
    "    id = Column(Integer, primary_key=True, index=True)\n",
    "    name = Column(String, index=True)\n",
    "    description = Column(String, index=True)\n",
    "    price = Column(Float)\n",
    "    tax = Column(Float)\n",
    "\n",
    "Base.metadata.create_all(bind=engine)\n"
   ]
  },
  {
   "cell_type": "markdown",
   "id": "2e780959",
   "metadata": {},
   "source": [
    "# In main.py, update your endpoints to use SQLAlchemy:"
   ]
  },
  {
   "cell_type": "code",
   "execution_count": null,
   "id": "791b1e20",
   "metadata": {},
   "outputs": [],
   "source": [
    "from fastapi import Depends, FastAPI, HTTPException\n",
    "from sqlalchemy.orm import Session\n",
    "from .database import SessionLocal, engine, Base, Item\n",
    "\n",
    "app = FastAPI()\n",
    "\n",
    "Base.metadata.create_all(bind=engine)\n",
    "\n",
    "def get_db():\n",
    "    db = SessionLocal()\n",
    "    try:\n",
    "        yield db\n",
    "    finally:\n",
    "        db.close()\n",
    "\n",
    "@app.post(\"/items/\", response_model=Item)\n",
    "def create_item(item: Item, db: Session = Depends(get_db)):\n",
    "    db_item = Item(**item.dict())\n",
    "    db.add(db_item)\n",
    "    db.commit()\n",
    "    db.refresh(db_item)\n",
    "    return db_item\n",
    "\n",
    "@app.get(\"/items/{item_id}\", response_model=Item)\n",
    "def read_item(item_id: int, db: Session = Depends(get_db)):\n",
    "    db_item = db.query(Item).filter(Item.id == item_id).first()\n",
    "    if db_item is None:\n",
    "        raise HTTPException(status_code=404, detail=\"Item not found\")\n",
    "    return db_item"
   ]
  },
  {
   "cell_type": "markdown",
   "id": "193be8b5",
   "metadata": {},
   "source": [
    "# Step 13: Adding JWT Authentication\n",
    "Use JWT for authentication. Install pyjwt:"
   ]
  },
  {
   "cell_type": "code",
   "execution_count": null,
   "id": "274eea50",
   "metadata": {},
   "outputs": [],
   "source": [
    "pip install pyjwt"
   ]
  },
  {
   "cell_type": "markdown",
   "id": "391eb7e5",
   "metadata": {},
   "source": [
    "# Create a new file auth.py:"
   ]
  },
  {
   "cell_type": "code",
   "execution_count": null,
   "id": "ee669980",
   "metadata": {},
   "outputs": [],
   "source": [
    "from datetime import datetime, timedelta\n",
    "from typing import Optional\n",
    "from jose import JWTError, jwt\n",
    "from fastapi import Depends, HTTPException, status\n",
    "from fastapi.security import OAuth2PasswordBearer, OAuth2PasswordRequestForm\n",
    "\n",
    "SECRET_KEY = \"your_secret_key\"\n",
    "ALGORITHM = \"HS256\"\n",
    "ACCESS_TOKEN_EXPIRE_MINUTES = 30\n",
    "\n",
    "oauth2_scheme = OAuth2PasswordBearer(tokenUrl=\"token\")\n",
    "\n",
    "def create_access_token(data: dict, expires_delta: Optional[timedelta] = None):\n",
    "    to_encode = data.copy()\n",
    "    if expires_delta:\n",
    "        expire = datetime.utcnow() + expires_delta\n",
    "    else:\n",
    "        expire = datetime.utcnow() + timedelta(minutes=15)\n",
    "    to_encode.update({\"exp\": expire})\n",
    "    encoded_jwt = jwt.encode(to_encode, SECRET_KEY, algorithm=ALGORITHM)\n",
    "    return encoded_jwt\n",
    "\n",
    "def verify_token(token: str = Depends(oauth2_scheme)):\n",
    "    credentials_exception = HTTPException(\n",
    "        status_code=status.HTTP_401_UNAUTHORIZED,\n",
    "        detail=\"Could not validate credentials\",\n",
    "        headers={\"WWW-Authenticate\": \"Bearer\"},\n",
    "    )\n",
    "    try:\n",
    "        payload = jwt.decode(token, SECRET_KEY, algorithms=[ALGORITHM])\n",
    "        username: str = payload.get(\"sub\")\n",
    "        if username is None:\n",
    "            raise credentials_exception\n",
    "    except JWTError:\n",
    "        raise credentials_exception\n",
    "    return username\n"
   ]
  },
  {
   "cell_type": "markdown",
   "id": "5fda0862",
   "metadata": {},
   "source": [
    "# In main.py, add routes for token generation and securing endpoints:"
   ]
  },
  {
   "cell_type": "code",
   "execution_count": null,
   "id": "6fb83010",
   "metadata": {},
   "outputs": [],
   "source": [
    "from fastapi import Depends, FastAPI, HTTPException, status\n",
    "from fastapi.security import OAuth2PasswordBearer, OAuth2PasswordRequestForm\n",
    "from .auth import create_access_token, verify_token\n",
    "from pydantic import BaseModel\n",
    "\n",
    "app = FastAPI()\n",
    "\n",
    "class User(BaseModel):\n",
    "    username: str\n",
    "    password: str\n",
    "\n",
    "@app.post(\"/token\")\n",
    "def login(form_data: OAuth2PasswordRequestForm = Depends()):\n",
    "    user_dict = {\"username\": \"user\", \"password\": \"password\"}\n",
    "    if form_data.username != user_dict[\"username\"] or form_data.password != user_dict[\"password\"]:\n",
    "        raise HTTPException(status_code=status.HTTP_401_UNAUTHORIZED, detail=\"Incorrect username or password\")\n",
    "    access_token = create_access_token(data={\"sub\": user_dict[\"username\"]})\n",
    "    return {\"access_token\": access_token, \"token_type\": \"bearer\"}\n",
    "\n",
    "@app.get(\"/users/me\", dependencies=[Depends(verify_token)])\n",
    "def read_users_me(username: str = Depends(verify_token)):\n",
    "    return {\"username\": username}\n"
   ]
  },
  {
   "cell_type": "markdown",
   "id": "a11bcf67",
   "metadata": {},
   "source": [
    "# Step 14: Using Background Tasks\n",
    "Add background tasks for operations that need to run asynchronously.\n",
    "\n"
   ]
  },
  {
   "cell_type": "code",
   "execution_count": null,
   "id": "c8a714d3",
   "metadata": {},
   "outputs": [],
   "source": [
    "from fastapi import BackgroundTasks\n",
    "\n",
    "def write_log(message: str):\n",
    "    with open(\"log.txt\", \"a\") as log:\n",
    "        log.write(message)\n",
    "\n",
    "@app.post(\"/send-notification/{email}\")\n",
    "def send_notification(email: str, background_tasks: BackgroundTasks):\n",
    "    background_tasks.add_task(write_log, f\"Notification sent to {email}\")\n",
    "    return {\"message\": \"Notification sent\"}\n"
   ]
  },
  {
   "cell_type": "markdown",
   "id": "c55aa133",
   "metadata": {},
   "source": [
    "# Step 15: Implementing WebSockets\n",
    "Use WebSockets for real-time communication."
   ]
  },
  {
   "cell_type": "code",
   "execution_count": null,
   "id": "7e1f3b01",
   "metadata": {},
   "outputs": [],
   "source": [
    "from fastapi import WebSocket\n",
    "\n",
    "@app.websocket(\"/ws\")\n",
    "async def websocket_endpoint(websocket: WebSocket):\n",
    "    await websocket.accept()\n",
    "    while True:\n",
    "        data = await websocket.receive_text()\n",
    "        await websocket.send_text(f\"Message text was: {data}\")\n"
   ]
  },
  {
   "cell_type": "markdown",
   "id": "f6803635",
   "metadata": {},
   "source": [
    "# Step 16: Adding Middleware\n",
    "Middleware can be used to process requests before they reach the endpoint."
   ]
  },
  {
   "cell_type": "code",
   "execution_count": null,
   "id": "ac12845b",
   "metadata": {},
   "outputs": [],
   "source": [
    "from fastapi.middleware.cors import CORSMiddleware\n",
    "\n",
    "app.add_middleware(\n",
    "    CORSMiddleware,\n",
    "    allow_origins=[\"*\"],\n",
    "    allow_credentials=True,\n",
    "    allow_methods=[\"*\"],\n",
    "    allow_headers=[\"*\"],\n",
    ")\n"
   ]
  },
  {
   "cell_type": "markdown",
   "id": "aec7ad76",
   "metadata": {},
   "source": [
    "# Step 17: Using Dependency Injection for Configuration\n",
    "Dependency injection can be used to manage configuration settings."
   ]
  },
  {
   "cell_type": "code",
   "execution_count": null,
   "id": "8c3d8d75",
   "metadata": {},
   "outputs": [],
   "source": [
    "from pydantic import BaseSettings\n",
    "\n",
    "class Settings(BaseSettings):\n",
    "    app_name: str = \"FastAPI\"\n",
    "    admin_email: str\n",
    "    items_per_user: int = 50\n",
    "\n",
    "    class Config:\n",
    "        env_file = \".env\"\n",
    "\n",
    "@app.get(\"/info\")\n",
    "def get_info(settings: Settings = Depends()):\n",
    "    return {\"app_name\": settings.app_name, \"admin_email\": settings.admin_email}\n"
   ]
  },
  {
   "cell_type": "markdown",
   "id": "752907e4",
   "metadata": {},
   "source": [
    "# Step 18: Testing FastAPI Applications\n",
    "Use pytest and httpx to test your FastAPI application. Install necessary packages:"
   ]
  },
  {
   "cell_type": "code",
   "execution_count": null,
   "id": "80660bed",
   "metadata": {},
   "outputs": [],
   "source": [
    "pip install pytest httpx\n"
   ]
  },
  {
   "cell_type": "markdown",
   "id": "41da6132",
   "metadata": {},
   "source": [
    "# Create a new file test_main.py:\n",
    "\n"
   ]
  },
  {
   "cell_type": "code",
   "execution_count": null,
   "id": "e7ef561b",
   "metadata": {},
   "outputs": [],
   "source": [
    "from fastapi.testclient import TestClient\n",
    "from .main import app\n",
    "\n",
    "client = TestClient(app)\n",
    "\n",
    "def test_read_main():\n",
    "    response = client.get(\"/\")\n",
    "    assert response.status_code == 200\n",
    "    assert response.json() == {\"Hello\": \"World\"}\n"
   ]
  },
  {
   "cell_type": "markdown",
   "id": "5d7c4296",
   "metadata": {},
   "source": [
    "# Step 19: Dockerize Your FastAPI Application\n",
    "Create a Dockerfile to containerize your FastAPI application:"
   ]
  },
  {
   "cell_type": "code",
   "execution_count": null,
   "id": "e18a18b9",
   "metadata": {},
   "outputs": [],
   "source": [
    "FROM python:3.8-slim\n",
    "\n",
    "WORKDIR /app\n",
    "\n",
    "COPY . .\n",
    "\n",
    "RUN pip install --no-cache-dir fastapi uvicorn sqlalchemy databases\n",
    "\n",
    "CMD [\"uvicorn\", \"main:app\", \"--host\", \"0.0.0.0\", \"--port\", \"80\"]\n"
   ]
  },
  {
   "cell_type": "markdown",
   "id": "937466b0",
   "metadata": {},
   "source": [
    "# Build and run the Docker container:"
   ]
  },
  {
   "cell_type": "code",
   "execution_count": null,
   "id": "9e76c436",
   "metadata": {},
   "outputs": [],
   "source": [
    "docker build -t fastapi-app .\n",
    "docker run -d -p 80:80 fastapi-app\n"
   ]
  },
  {
   "cell_type": "markdown",
   "id": "d7f315d2",
   "metadata": {},
   "source": [
    "# Step 20. Advanced Documentation\n",
    "Adding Detailed Endpoint Descriptions and Examples:"
   ]
  },
  {
   "cell_type": "code",
   "execution_count": null,
   "id": "ef315690",
   "metadata": {},
   "outputs": [],
   "source": [
    "@app.post(\"/items/\", response_model=ItemResponse, tags=[\"Items\"])\n",
    "def create_item(item: Item, db: Session = Depends(get_db)):\n",
    "    \"\"\"\n",
    "    Create an item with all the information:\n",
    "\n",
    "    - **name**: each item must have a name\n",
    "    - **description**: a long description of the item\n",
    "    - **price**: required price of the item\n",
    "    - **tax**: optional tax percentage\n",
    "    \"\"\"\n",
    "    db_item = ItemModel(**item.dict())\n",
    "    db.add(db_item)\n",
    "    db.commit()\n",
    "    db.refresh(db_item)\n",
    "    return db_item\n",
    "\n",
    "@app.get(\"/items/{item_id}\", response_model=ItemResponse, tags=[\"Items\"])\n",
    "def read_item(item_id: int, db: Session = Depends(get_db)):\n",
    "    \"\"\"\n",
    "    Retrieve an item by its ID:\n",
    "\n",
    "    - **item_id**: ID of the item to retrieve\n",
    "    \"\"\"\n",
    "    db_item = db.query(ItemModel).filter(ItemModel.id == item_id).first()\n",
    "    if db_item is None:\n",
    "        raise HTTPException(status_code=404, detail=\"Item not found\")\n",
    "    return db_item\n"
   ]
  },
  {
   "cell_type": "markdown",
   "id": "c2b10288",
   "metadata": {},
   "source": [
    "# Conclusion\n",
    "This comprehensive guide should help you create detailed documentation for your FastAPI application while integrating various features and ensuring that your application is well-documented, secure, and easy to maintain."
   ]
  },
  {
   "cell_type": "code",
   "execution_count": null,
   "id": "6810bc37",
   "metadata": {},
   "outputs": [],
   "source": []
  }
 ],
 "metadata": {
  "kernelspec": {
   "display_name": "Python 3 (ipykernel)",
   "language": "python",
   "name": "python3"
  },
  "language_info": {
   "codemirror_mode": {
    "name": "ipython",
    "version": 3
   },
   "file_extension": ".py",
   "mimetype": "text/x-python",
   "name": "python",
   "nbconvert_exporter": "python",
   "pygments_lexer": "ipython3",
   "version": "3.11.4"
  }
 },
 "nbformat": 4,
 "nbformat_minor": 5
}
