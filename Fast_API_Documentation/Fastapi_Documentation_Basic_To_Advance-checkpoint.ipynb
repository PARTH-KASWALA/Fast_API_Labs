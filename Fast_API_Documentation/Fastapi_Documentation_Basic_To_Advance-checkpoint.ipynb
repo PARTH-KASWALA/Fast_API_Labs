{
 "cells": [
  {
   "cell_type": "markdown",
   "id": "7c83c4ee",
   "metadata": {},
   "source": [
    "# FastAPI Contrib Documentation\n",
    "\n",
    "PARTH KASWALA\n",
    "\n",
    "Aug 02,2024"
   ]
  },
  {
   "cell_type": "markdown",
   "id": "8874db36",
   "metadata": {},
   "source": [
    "# CHAPTER\n",
    "ONE\n",
    "FASTAPI CONTRIB"
   ]
  },
  {
   "cell_type": "markdown",
   "id": "b07439f2",
   "metadata": {},
   "source": [
    "# 1.1 Features\n",
    "• Auth Backend & Middleware (User or None in every request object)\n",
    "\n",
    "• Permissions: reusable class permissions, specify multiple as FastAPI Dependency\n",
    "\n",
    "• ModelSerializers: serialize (pydantic) incoming request, connect data with DB model and save\n",
    "\n",
    "• UJSONResponse: correctly show slashes in fields with URLs\n",
    "\n",
    "• Limit-Offset Pagination: use it as FastAPI Dependency (works only with ModelSerializers for now)\n",
    "\n",
    "• MongoDB integration: Use models as if it was Django (based on pydantic models)\n",
    "\n",
    "• MongoDB indices verification on startup of the app\n",
    "\n",
    "• Custom Exceptions and Custom Exception Handlers\n",
    "\n",
    "• Opentracing middleware & setup utility with Jaeger tracer + root span available in every Request’s state\n",
    "\n",
    "• StateRequestIDMiddleware: receives configurable header and saves it in request state\n"
   ]
  },
  {
   "cell_type": "markdown",
   "id": "fb015b83",
   "metadata": {},
   "source": [
    "# 1.2 Roadmap\n",
    "See GitHub Project Roadmap.\n"
   ]
  },
  {
   "cell_type": "markdown",
   "id": "f844ae13",
   "metadata": {},
   "source": [
    "# 1.3 Installation\n",
    "\n"
   ]
  },
  {
   "cell_type": "markdown",
   "id": "30de98ea",
   "metadata": {},
   "source": [
    "#### To install just Contrib (without mongodb, pytz, ujson):"
   ]
  },
  {
   "cell_type": "code",
   "execution_count": null,
   "id": "9a79392d",
   "metadata": {},
   "outputs": [],
   "source": [
    "pip install fastapi_contrib\n"
   ]
  },
  {
   "cell_type": "markdown",
   "id": "41790025",
   "metadata": {},
   "source": [
    "#### To install contrib with mongodb support:\n"
   ]
  },
  {
   "cell_type": "code",
   "execution_count": null,
   "id": "4e7d58d6",
   "metadata": {},
   "outputs": [],
   "source": [
    "pip install fastapi_contrib[mongo]\n"
   ]
  },
  {
   "cell_type": "markdown",
   "id": "fa3fb897",
   "metadata": {},
   "source": [
    "#### To install contrib with ujson support:\n"
   ]
  },
  {
   "cell_type": "code",
   "execution_count": null,
   "id": "7d329aac",
   "metadata": {},
   "outputs": [],
   "source": [
    "pip install fastapi_contrib[ujson]\n"
   ]
  },
  {
   "cell_type": "markdown",
   "id": "402d6a9f",
   "metadata": {},
   "source": [
    "#### To install contrib with pytz support:"
   ]
  },
  {
   "cell_type": "code",
   "execution_count": null,
   "id": "64670e51",
   "metadata": {},
   "outputs": [],
   "source": [
    " pip install fastapi_contrib[pytz]\n"
   ]
  },
  {
   "cell_type": "markdown",
   "id": "32bb709f",
   "metadata": {},
   "source": [
    "#### To install contrib with opentracing & Jaeger tracer:\n"
   ]
  },
  {
   "cell_type": "code",
   "execution_count": null,
   "id": "7fc3cb2a",
   "metadata": {},
   "outputs": [],
   "source": [
    "pip install fastapi_contrib[jaegertracing]\n"
   ]
  },
  {
   "cell_type": "markdown",
   "id": "a38bc217",
   "metadata": {},
   "source": [
    "#### To install everything:\n"
   ]
  },
  {
   "cell_type": "code",
   "execution_count": null,
   "id": "fb141821",
   "metadata": {},
   "outputs": [],
   "source": [
    "pip install fastapi_contrib[all]"
   ]
  },
  {
   "cell_type": "markdown",
   "id": "13f06288",
   "metadata": {},
   "source": [
    "# 1.4 Usage\n",
    "To use Limit-Offset pagination:"
   ]
  },
  {
   "cell_type": "code",
   "execution_count": null,
   "id": "93f6d727",
   "metadata": {},
   "outputs": [],
   "source": [
    "from fastapi import FastAPI\n",
    "from fastapi_contrib.pagination import Pagination\n",
    "from fastapi_contrib.serializers.common import ModelSerializer\n",
    "from yourapp.models import SomeModel\n",
    "app = FastAPI()\n",
    "class SomeSerializer(ModelSerializer):\n",
    "class Meta:\n",
    "model = SomeModel\n",
    "@app.get(\"/\")\n",
    "async def list(pagination: Pagination = Depends()):\n",
    "filter_kwargs = {}\n",
    "return await pagination.paginate(\n",
    "serializer_class=SomeSerializer, **filter_kwargs\n",
    ")"
   ]
  },
  {
   "cell_type": "markdown",
   "id": "792374e9",
   "metadata": {},
   "source": [
    "# Subclass this pagination to define custom default & maximum values for offset & limit:\n"
   ]
  },
  {
   "cell_type": "code",
   "execution_count": null,
   "id": "e10e7809",
   "metadata": {},
   "outputs": [],
   "source": [
    "class CustomPagination(Pagination):\n",
    "default_offset = 90\n",
    "default_limit = 1\n",
    "max_offset = 100\n",
    "max_limit = 2000"
   ]
  },
  {
   "cell_type": "markdown",
   "id": "404117e5",
   "metadata": {},
   "source": [
    "#### To use State Request ID Middleware:"
   ]
  },
  {
   "cell_type": "code",
   "execution_count": null,
   "id": "eea32f94",
   "metadata": {},
   "outputs": [],
   "source": [
    "from fastapi import FastAPI\n",
    "from fastapi_contrib.common.middlewares import StateRequestIDMiddleware\n",
    "app = FastAPI()\n",
    "@app.on_event('startup')\n",
    "async def startup():\n",
    "app.add_middleware(StateRequestIDMiddleware)"
   ]
  },
  {
   "cell_type": "markdown",
   "id": "847658f8",
   "metadata": {},
   "source": [
    "#### To use Authentication Middleware:"
   ]
  },
  {
   "cell_type": "code",
   "execution_count": null,
   "id": "369dac05",
   "metadata": {},
   "outputs": [],
   "source": [
    "from fastapi import FastAPI\n",
    "from fastapi_contrib.auth.backends import AuthBackend\n",
    "from fastapi_contrib.auth.middlewares import AuthenticationMiddleware\n",
    "app = FastAPI()\n",
    "@app.on_event('startup')\n",
    "async def startup():\n",
    "app.add_middleware(AuthenticationMiddleware, backend=AuthBackend())"
   ]
  },
  {
   "cell_type": "markdown",
   "id": "f7b9d9e3",
   "metadata": {},
   "source": [
    "#### Define & use custom permissions based on FastAPI Dependency framework:"
   ]
  },
  {
   "cell_type": "code",
   "execution_count": null,
   "id": "9c37c420",
   "metadata": {},
   "outputs": [],
   "source": [
    "from fastapi import FastAPI\n",
    "from fastapi_contrib.permissions import BasePermission, PermissionsDependency\n",
    "class TeapotUserAgentPermission(BasePermission):\n",
    "def has_required_permissions(self, request: Request) -> bool:\n",
    "return request.headers.get('User-Agent') == \"Teapot v1.0\"\n",
    "app = FastAPI()\n",
    "@app.get(\n",
    "\"/teapot/\",\n",
    "dependencies=[Depends(\n",
    "PermissionsDependency([TeapotUserAgentPermission]))]\n",
    ")\n",
    "async def teapot() -> dict:\n",
    "return {\"teapot\": True}"
   ]
  },
  {
   "cell_type": "markdown",
   "id": "b0a3a528",
   "metadata": {},
   "source": [
    "#### Setup uniform exception-handling:\n"
   ]
  },
  {
   "cell_type": "code",
   "execution_count": null,
   "id": "4aa7bbfb",
   "metadata": {},
   "outputs": [],
   "source": [
    "from fastapi import FastAPI\n",
    "from fastapi_contrib.exception_handlers import setup_exception_handlers\n",
    "app = FastAPI()\n",
    "@app.on_event('startup')\n",
    "async def startup():\n",
    "setup_exception_handlers(app)\n"
   ]
  },
  {
   "cell_type": "markdown",
   "id": "e5b0e18b",
   "metadata": {},
   "source": [
    "#### If you want to correctly handle scenario when request is an empty body (IMPORTANT: non-multipart):"
   ]
  },
  {
   "cell_type": "code",
   "execution_count": null,
   "id": "633938c4",
   "metadata": {},
   "outputs": [],
   "source": [
    "from fastapi import FastAPI\n",
    "from fastapi_contrib.routes import ValidationErrorLoggingRoute\n",
    "app = FastAPI()\n",
    "app.router.route_class = ValidationErrorLoggingRoute"
   ]
  },
  {
   "cell_type": "markdown",
   "id": "ff6b7e8a",
   "metadata": {},
   "source": [
    "#### Or if you use multiple routes for handling different namespaces (IMPORTANT: non-multipart):\n"
   ]
  },
  {
   "cell_type": "code",
   "execution_count": null,
   "id": "00411416",
   "metadata": {},
   "outputs": [],
   "source": [
    "from fastapi import APIRouter, FastAPI\n",
    "from fastapi_contrib.routes import ValidationErrorLoggingRoute\n",
    "app = FastAPI()\n",
    "my_router = APIRouter(route_class=ValidationErrorLoggingRoute)"
   ]
  },
  {
   "cell_type": "markdown",
   "id": "6bee97b7",
   "metadata": {},
   "source": [
    "#### To correctly show slashes in fields with URLs + ascii locking:\n"
   ]
  },
  {
   "cell_type": "code",
   "execution_count": null,
   "id": "c81f28f1",
   "metadata": {},
   "outputs": [],
   "source": [
    "from fastapi import FastAPI\n",
    "from fastapi_contrib.common.responses import UJSONResponse\n",
    "app = FastAPI()\n",
    "@app.get(\"/\", response_class=UJSONResponse)\n",
    "async def root():\n",
    "return {\"a\": \"b\"}"
   ]
  },
  {
   "cell_type": "markdown",
   "id": "9bf3a555",
   "metadata": {},
   "source": [
    "#### Or specify it as default response class for the whole app (FastAPI >= 0.39.0):"
   ]
  },
  {
   "cell_type": "code",
   "execution_count": null,
   "id": "4a1967f9",
   "metadata": {},
   "outputs": [],
   "source": [
    "from fastapi import FastAPI\n",
    "from fastapi_contrib.common.responses import UJSONResponse\n",
    "app = FastAPI(default_response_class=UJSONResponse)\n"
   ]
  },
  {
   "cell_type": "markdown",
   "id": "184997a8",
   "metadata": {},
   "source": [
    "#### To setup Jaeger tracer and enable Middleware that captures every request in opentracing span:\n"
   ]
  },
  {
   "cell_type": "code",
   "execution_count": null,
   "id": "7a940a6b",
   "metadata": {},
   "outputs": [],
   "source": [
    "from fastapi import FastAPI\n",
    "from fastapi_contrib.tracing.middlewares import OpentracingMiddleware\n",
    "from fastapi_contrib.tracing.utils import setup_opentracing\n",
    "app = FastAPI()\n",
    "@app.on_event('startup')\n",
    "async def startup():\n",
    "setup_opentracing(app)\n",
    "app.add_middleware(OpentracingMiddleware)"
   ]
  },
  {
   "cell_type": "markdown",
   "id": "60332a88",
   "metadata": {},
   "source": [
    "#### To setup mongodb connection at startup and never worry about it again:\n"
   ]
  },
  {
   "cell_type": "code",
   "execution_count": null,
   "id": "39f212b4",
   "metadata": {},
   "outputs": [],
   "source": [
    "from fastapi import FastAPI\n",
    "from fastapi_contrib.db.utils import setup_mongodb\n",
    "app = FastAPI()\n",
    "@app.on_event('startup')\n",
    "async def startup():\n",
    "setup_mongodb(app)\n"
   ]
  },
  {
   "cell_type": "markdown",
   "id": "77bdb2aa",
   "metadata": {},
   "source": [
    "#### Use models to map data to MongoDB:"
   ]
  },
  {
   "cell_type": "code",
   "execution_count": null,
   "id": "d97bb687",
   "metadata": {},
   "outputs": [],
   "source": [
    "from fastapi_contrib.db.models import MongoDBModel\n",
    "class MyModel(MongoDBModel):\n",
    "additional_field1: str\n",
    "optional_field2: int = 42\n",
    "class Meta:\n",
    "collection = \"mymodel_collection\"\n",
    "mymodel = MyModel(additional_field1=\"value\")\n",
    "mymodel.save()\n",
    "assert mymodel.additional_field1 == \"value\"\n",
    "assert mymodel.optional_field2 == 42\n",
    "assert isinstance(mymodel.id, int)\n"
   ]
  },
  {
   "cell_type": "markdown",
   "id": "ddea5664",
   "metadata": {},
   "source": [
    "#### Or use TimeStamped model with creation datetime:"
   ]
  },
  {
   "cell_type": "code",
   "execution_count": null,
   "id": "6b06dddd",
   "metadata": {},
   "outputs": [],
   "source": [
    "from fastapi_contrib.db.models import MongoDBTimeStampedModel\n",
    "class MyTimeStampedModel(MongoDBTimeStampedModel):\n",
    "class Meta:\n",
    "collection = \"timestamped_collection\"\n",
    "mymodel = MyTimeStampedModel()\n",
    "mymodel.save()\n",
    "assert isinstance(mymodel.id, int)\n",
    "assert isinstance(mymodel.created, datetime)\n"
   ]
  },
  {
   "cell_type": "markdown",
   "id": "5439c16c",
   "metadata": {},
   "source": [
    "#### Use serializers and their response models to correctly show Schemas and convert from JSON/dict to models and back:\n"
   ]
  },
  {
   "cell_type": "code",
   "execution_count": null,
   "id": "85ef91d7",
   "metadata": {},
   "outputs": [],
   "source": [
    "from fastapi import FastAPI\n",
    "from fastapi_contrib.db.models import MongoDBModel\n",
    "from fastapi_contrib.serializers import openapi\n",
    "from fastapi_contrib.serializers.common import Serializer\n",
    "from yourapp.models import SomeModel\n",
    "app = FastAPI()\n",
    "class SomeModel(MongoDBModel):\n",
    "field1: str\n",
    "@openapi.patch\n",
    "class SomeSerializer(Serializer):\n",
    "read_only1: str = \"const\"\n",
    "write_only2: int\n",
    "not_visible: str = \"42\"\n",
    "class Meta:\n",
    "model = SomeModel\n",
    "exclude = {\"not_visible\"}\n",
    "write_only_fields = {\"write_only2\"}\n",
    "read_only_fields = {\"read_only1\"}\n",
    "@app.get(\"/\", response_model=SomeSerializer.response_model)\n",
    "async def root(serializer: SomeSerializer):\n",
    "model_instance = await serializer.save()\n",
    "return model_instance.dict()"
   ]
  },
  {
   "cell_type": "markdown",
   "id": "38f68495",
   "metadata": {},
   "source": [
    "#### POST-ing to this route following JSON:"
   ]
  },
  {
   "cell_type": "code",
   "execution_count": null,
   "id": "e1b742d0",
   "metadata": {},
   "outputs": [],
   "source": [
    "{\"read_only1\": \"a\", \"write_only2\": 123, \"field1\": \"b\"}\n"
   ]
  },
  {
   "cell_type": "markdown",
   "id": "0c52fdaf",
   "metadata": {},
   "source": [
    "#### Should return following response"
   ]
  },
  {
   "cell_type": "code",
   "execution_count": null,
   "id": "6f9ff919",
   "metadata": {},
   "outputs": [],
   "source": [
    "{\"id\": 1, \"field1\": \"b\", \"read_only1\": \"const\"}"
   ]
  },
  {
   "cell_type": "markdown",
   "id": "97821310",
   "metadata": {},
   "source": [
    "# 1.5 Auto-creation of MongoDB indexes"
   ]
  },
  {
   "cell_type": "raw",
   "id": "503c50db",
   "metadata": {},
   "source": [
    "Suppose we have this directory structure:\n",
    "-- project_root/\n",
    "-- apps/\n",
    "-- app1/\n",
    "-- models.py (with MongoDBModel inside with indices declared)\n",
    "-- app2/\n",
    "-- models.py (with MongoDBModel inside with indices declared)\n",
    "Based on this, your name of the folder with all the apps would be “apps”. This is the default name for\n",
    "fastapi_contrib package to pick up your structure automatically. You can change that by setting ENV variable CONTRIB_APPS_FOLDER_NAME (by the way, all the setting of this package are overridable via ENV vars with CONTRIB_ prefix before them).\n",
    "You also need to tell fastapi_contrib which apps to look into for your models. This is controlled by CONTRIB_APPS\n",
    "ENV variable, which is list of str names of the apps with models. In the example above, this would be CONTRIB_APPS=[“app1”,”app2”]."
   ]
  },
  {
   "cell_type": "markdown",
   "id": "520a6fc9",
   "metadata": {},
   "source": [
    "#### Just use create_indexes function after setting up mongodb:\n"
   ]
  },
  {
   "cell_type": "code",
   "execution_count": null,
   "id": "56ab1e78",
   "metadata": {},
   "outputs": [],
   "source": [
    "from fastapi import FastAPI\n",
    "from fastapi_contrib.db.utils import setup_mongodb, create_indexes\n",
    "app = FastAPI()\n",
    "@app.on_event(\"startup\")\n",
    "async def startup():\n",
    "setup_mongodb(app)\n",
    "await create_indexes()\n"
   ]
  },
  {
   "cell_type": "markdown",
   "id": "e3d884ed",
   "metadata": {},
   "source": [
    "This will scan all the specified CONTRIB_APPS in the CONTRIB_APPS_FOLDER_NAME for models, that are subclassed from either MongoDBModel or MongoDBTimeStampedModel and create indices for any of them that has\n",
    "Meta class with indexes attribute:\n",
    "models.py:"
   ]
  },
  {
   "cell_type": "code",
   "execution_count": null,
   "id": "815577a4",
   "metadata": {},
   "outputs": [],
   "source": [
    "import pymongo\n",
    "from fastapi_contrib.db.models import MongoDBTimeStampedModel\n",
    "class MyModel(MongoDBTimeStampedModel):\n",
    "class Meta:\n",
    "collection = \"mymodel\"\n",
    "indexes = [\n",
    "pymongo.IndexModel(...),\n",
    "pymongo.IndexModel(...),\n",
    "]\n"
   ]
  },
  {
   "cell_type": "markdown",
   "id": "9741a7cd",
   "metadata": {},
   "source": [
    "#### This would not create duplicate indices because it relies on pymongo and motor to do all the job."
   ]
  },
  {
   "cell_type": "markdown",
   "id": "a3252044",
   "metadata": {},
   "source": [
    "# 1.6 Credits\n"
   ]
  },
  {
   "cell_type": "code",
   "execution_count": null,
   "id": "0d388d66",
   "metadata": {},
   "outputs": [],
   "source": []
  },
  {
   "cell_type": "markdown",
   "id": "227297ca",
   "metadata": {},
   "source": [
    "# CHAPTER\n",
    "TWO\n",
    "INSTALLATION\n"
   ]
  },
  {
   "cell_type": "markdown",
   "id": "2a24fb20",
   "metadata": {},
   "source": [
    "#### 2.1 Stable release\n",
    "To install just Contrib (without mongodb, pytz, ujson):"
   ]
  },
  {
   "cell_type": "code",
   "execution_count": null,
   "id": "839aeeab",
   "metadata": {},
   "outputs": [],
   "source": [
    " pip install fastapi_contrib"
   ]
  },
  {
   "cell_type": "markdown",
   "id": "4571d26d",
   "metadata": {},
   "source": [
    "###### To install contrib with mongodb support:\n"
   ]
  },
  {
   "cell_type": "code",
   "execution_count": null,
   "id": "98946662",
   "metadata": {},
   "outputs": [],
   "source": [
    "pip install fastapi_contrib[mongo]"
   ]
  },
  {
   "cell_type": "markdown",
   "id": "459499af",
   "metadata": {},
   "source": [
    "###### To install contrib with ujson support:"
   ]
  },
  {
   "cell_type": "code",
   "execution_count": null,
   "id": "803ab18f",
   "metadata": {},
   "outputs": [],
   "source": [
    "pip install fastapi_contrib[ujson]"
   ]
  },
  {
   "cell_type": "markdown",
   "id": "9282874b",
   "metadata": {},
   "source": [
    "###### To install contrib with pytz support:"
   ]
  },
  {
   "cell_type": "code",
   "execution_count": null,
   "id": "ba247245",
   "metadata": {},
   "outputs": [],
   "source": [
    "pip install fastapi_contrib[pytz]\n"
   ]
  },
  {
   "cell_type": "markdown",
   "id": "bc3d8b5e",
   "metadata": {},
   "source": [
    "###### To install contrib with opentracing & Jaeger tracer:"
   ]
  },
  {
   "cell_type": "code",
   "execution_count": null,
   "id": "bc7ae1f4",
   "metadata": {},
   "outputs": [],
   "source": [
    "pip install fastapi_contrib[jaegertracing]"
   ]
  },
  {
   "cell_type": "markdown",
   "id": "a8e875aa",
   "metadata": {},
   "source": [
    "###### To install everything:"
   ]
  },
  {
   "cell_type": "code",
   "execution_count": null,
   "id": "68545f82",
   "metadata": {},
   "outputs": [],
   "source": [
    "pip install fastapi_contrib[all]"
   ]
  },
  {
   "cell_type": "markdown",
   "id": "366fca22",
   "metadata": {},
   "source": [
    "This is the preferred method to install FastAPI Contrib, as it will always install the most recent stable release.\n",
    "If you don’t have pip installed, this Python installation guide can guide you through the process."
   ]
  },
  {
   "cell_type": "markdown",
   "id": "a0b4b502",
   "metadata": {},
   "source": [
    "## 2.2 From sources"
   ]
  },
  {
   "cell_type": "markdown",
   "id": "1e2a6996",
   "metadata": {},
   "source": [
    "The sources for FastAPI Contrib can be downloaded from the Github repo.\n",
    "You can either clone the public repository:"
   ]
  },
  {
   "cell_type": "markdown",
   "id": "3f18234a",
   "metadata": {},
   "source": [
    "git clone git://github.com/l@datacorp.ee/fastapi_contrib"
   ]
  },
  {
   "cell_type": "markdown",
   "id": "5639efee",
   "metadata": {},
   "source": [
    "Or download the tarball:"
   ]
  },
  {
   "cell_type": "markdown",
   "id": "abf2ff5b",
   "metadata": {},
   "source": [
    " curl -OL https://github.com/l@datacorp.ee/fastapi_contrib/tarball/master"
   ]
  },
  {
   "cell_type": "markdown",
   "id": "84493129",
   "metadata": {},
   "source": [
    "Once you have a copy of the source, you can install it with:"
   ]
  },
  {
   "cell_type": "code",
   "execution_count": null,
   "id": "83f1d442",
   "metadata": {},
   "outputs": [],
   "source": [
    "python setup.py install\n"
   ]
  },
  {
   "cell_type": "markdown",
   "id": "5301cc59",
   "metadata": {},
   "source": [
    "#### To use Limit-Offset pagination:\n"
   ]
  },
  {
   "cell_type": "code",
   "execution_count": null,
   "id": "b0c8cdae",
   "metadata": {},
   "outputs": [],
   "source": [
    "from fastapi import FastAPI\n",
    "from fastapi_contrib.pagination import Pagination\n",
    "from fastapi_contrib.serializers.common import ModelSerializer\n",
    "from yourapp.models import SomeModel\n",
    "app = FastAPI()\n",
    "class SomeSerializer(ModelSerializer):\n",
    "class Meta:\n",
    "model = SomeModel\n",
    "@app.get(\"/\")\n",
    "async def list(pagination: Pagination = Depends()):\n",
    "filter_kwargs = {}\n",
    "return await pagination.paginate(\n",
    "serializer_class=SomeSerializer, **filter_kwargs\n",
    ")\n"
   ]
  },
  {
   "cell_type": "markdown",
   "id": "04b13800",
   "metadata": {},
   "source": [
    "#### Subclass this pagination to define custom default & maximum values for offset & limit:"
   ]
  },
  {
   "cell_type": "code",
   "execution_count": null,
   "id": "fd843f1d",
   "metadata": {},
   "outputs": [],
   "source": [
    "class CustomPagination(Pagination):\n",
    "default_offset = 90\n",
    "default_limit = 1\n",
    "max_offset = 100\n",
    "max_limit = 2000\n"
   ]
  },
  {
   "cell_type": "markdown",
   "id": "6a47b3e3",
   "metadata": {},
   "source": [
    "#### To use State Request ID Middleware:"
   ]
  },
  {
   "cell_type": "code",
   "execution_count": null,
   "id": "2b5029f2",
   "metadata": {},
   "outputs": [],
   "source": [
    "from fastapi import FastAPI\n",
    "from fastapi_contrib.common.middlewares import StateRequestIDMiddleware\n",
    "app = FastAPI()\n",
    "@app.on_event('startup')\n",
    "async def startup():\n",
    "app.add_middleware(StateRequestIDMiddleware)"
   ]
  },
  {
   "cell_type": "markdown",
   "id": "951053e3",
   "metadata": {},
   "source": [
    "#### To use Authentication Middleware:"
   ]
  },
  {
   "cell_type": "code",
   "execution_count": null,
   "id": "b8f9c7db",
   "metadata": {},
   "outputs": [],
   "source": [
    "from fastapi import FastAPI\n",
    "from fastapi_contrib.auth.backends import AuthBackend\n",
    "from fastapi_contrib.auth.middlewares import AuthenticationMiddleware\n",
    "app = FastAPI()\n",
    "@app.on_event('startup')\n",
    "async def startup():\n",
    "app.add_middleware(AuthenticationMiddleware, backend=AuthBackend())"
   ]
  },
  {
   "cell_type": "markdown",
   "id": "24589dee",
   "metadata": {},
   "source": [
    "#### Define & use custom permissions based on FastAPI Dependency framework:"
   ]
  },
  {
   "cell_type": "code",
   "execution_count": null,
   "id": "8b94b901",
   "metadata": {},
   "outputs": [],
   "source": [
    "from fastapi import FastAPI\n",
    "from fastapi_contrib.permissions import BasePermission, PermissionsDependency\n",
    "class TeapotUserAgentPermission(BasePermission):\n",
    "def has_required_permissions(self, request: Request) -> bool:\n",
    "return request.headers.get('User-Agent') == \"Teapot v1.0\"\n",
    "app = FastAPI()\n",
    "@app.get(\n",
    "\"/teapot/\",\n",
    "dependencies=[Depends(\n",
    "PermissionsDependency([TeapotUserAgentPermission]))]\n",
    ")\n",
    "async def teapot() -> dict:\n",
    "return {\"teapot\": True}"
   ]
  },
  {
   "cell_type": "markdown",
   "id": "f6753558",
   "metadata": {},
   "source": [
    "Setup uniform exception-handling:"
   ]
  },
  {
   "cell_type": "code",
   "execution_count": null,
   "id": "6a3842ac",
   "metadata": {},
   "outputs": [],
   "source": [
    "from fastapi import FastAPI\n",
    "from fastapi_contrib.exception_handlers import setup_exception_handlers\n",
    "app = FastAPI()\n",
    "@app.on_event('startup')\n",
    "async def startup():\n",
    "setup_exception_handlers(app)"
   ]
  },
  {
   "cell_type": "markdown",
   "id": "2c525442",
   "metadata": {},
   "source": [
    "If you want to correctly handle scenario when request is an empty body (IMPORTANT: non-multipart):"
   ]
  },
  {
   "cell_type": "code",
   "execution_count": null,
   "id": "0c5586ab",
   "metadata": {},
   "outputs": [],
   "source": [
    "from fastapi import FastAPI\n",
    "from fastapi_contrib.routes import ValidationErrorLoggingRoute\n",
    "app = FastAPI()\n",
    "app.router.route_class = ValidationErrorLoggingRoute"
   ]
  },
  {
   "cell_type": "markdown",
   "id": "30bb0968",
   "metadata": {},
   "source": [
    "Or if you use multiple routes for handling different namespaces (IMPORTANT: non-multipart):"
   ]
  },
  {
   "cell_type": "code",
   "execution_count": null,
   "id": "104bdf30",
   "metadata": {},
   "outputs": [],
   "source": [
    "from fastapi import APIRouter, FastAPI\n",
    "from fastapi_contrib.routes import ValidationErrorLoggingRoute\n",
    "app = FastAPI()\n",
    "my_router = APIRouter(route_class=ValidationErrorLoggingRoute)\n"
   ]
  },
  {
   "cell_type": "markdown",
   "id": "a6e9fa30",
   "metadata": {},
   "source": [
    "To correctly show slashes in fields with URLs + ascii locking:\n"
   ]
  },
  {
   "cell_type": "code",
   "execution_count": null,
   "id": "fcb8e8e6",
   "metadata": {},
   "outputs": [],
   "source": [
    "from fastapi import FastAPI\n",
    "from fastapi_contrib.common.responses import UJSONResponse\n",
    "app = FastAPI()\n",
    "@app.get(\"/\", response_class=UJSONResponse)\n",
    "async def root():\n",
    "return {\"a\": \"b\"}"
   ]
  },
  {
   "cell_type": "markdown",
   "id": "679149db",
   "metadata": {},
   "source": [
    "Or specify it as default response class for the whole app (FastAPI >= 0.39.0):"
   ]
  },
  {
   "cell_type": "code",
   "execution_count": null,
   "id": "283a6fe6",
   "metadata": {},
   "outputs": [],
   "source": [
    "from fastapi import FastAPI\n",
    "from fastapi_contrib.common.responses import UJSONResponse\n",
    "app = FastAPI(default_response_class=UJSONResponse)\n"
   ]
  },
  {
   "cell_type": "markdown",
   "id": "0d656799",
   "metadata": {},
   "source": [
    "To setup Jaeger tracer and enable Middleware that captures every request in opentracing span:"
   ]
  },
  {
   "cell_type": "code",
   "execution_count": null,
   "id": "ea7dfcc7",
   "metadata": {},
   "outputs": [],
   "source": [
    "from fastapi import FastAPI\n",
    "from fastapi_contrib.tracing.middlewares import OpentracingMiddleware\n",
    "app = FastAPI()\n",
    "@app.on_event('startup')\n",
    "async def startup():\n",
    "setup_opentracing(app)\n",
    "app.add_middleware(AuthenticationMiddleware)"
   ]
  },
  {
   "cell_type": "markdown",
   "id": "a9bb5d49",
   "metadata": {},
   "source": [
    "To setup mongodb connection at startup and never worry about it again:"
   ]
  },
  {
   "cell_type": "code",
   "execution_count": null,
   "id": "6067588d",
   "metadata": {},
   "outputs": [],
   "source": [
    "from fastapi import FastAPI\n",
    "from fastapi_contrib.db.utils import setup_mongodb\n",
    "app = FastAPI()\n",
    "@app.on_event('startup')\n",
    "async def startup():\n",
    "setup_mongodb(app)\n"
   ]
  },
  {
   "cell_type": "markdown",
   "id": "214b6d6f",
   "metadata": {},
   "source": [
    "Use models to map data to MongoDB:"
   ]
  },
  {
   "cell_type": "code",
   "execution_count": null,
   "id": "470edc6d",
   "metadata": {},
   "outputs": [],
   "source": [
    "from fastapi_contrib.db.models import MongoDBModel\n",
    "class MyModel(MongoDBModel):\n",
    "additional_field1: str\n",
    "optional_field2: int = 42\n",
    "class Meta:\n",
    "collection = \"mymodel_collection\"\n",
    "mymodel = MyModel(additional_field1=\"value\")\n",
    "mymodel.save()\n",
    "assert mymodel.additional_field1 == \"value\"\n",
    "assert mymodel.optional_field2 == 42\n",
    "assert isinstance(mymodel.id, int)"
   ]
  },
  {
   "cell_type": "markdown",
   "id": "7458b5a5",
   "metadata": {},
   "source": [
    "Or use TimeStamped model with creation datetime:\n"
   ]
  },
  {
   "cell_type": "code",
   "execution_count": null,
   "id": "4da3b1d0",
   "metadata": {},
   "outputs": [],
   "source": [
    "from fastapi_contrib.db.models import MongoDBTimeStampedModel\n",
    "class MyTimeStampedModel(MongoDBTimeStampedModel):\n",
    "class Meta:\n",
    "collection = \"timestamped_collection\"\n",
    "mymodel = MyTimeStampedModel()\n",
    "mymodel.save()\n",
    "assert isinstance(mymodel.id, int)\n",
    "assert isinstance(mymodel.created, datetime)"
   ]
  },
  {
   "cell_type": "markdown",
   "id": "9a3fb085",
   "metadata": {},
   "source": [
    "Use serializers and their response models to correctly show Schemas and convert from JSON/dict to models and back:\n"
   ]
  },
  {
   "cell_type": "code",
   "execution_count": null,
   "id": "37128b47",
   "metadata": {},
   "outputs": [],
   "source": [
    "from fastapi import FastAPI\n",
    "from fastapi_contrib.db.models import MongoDBModel\n",
    "from fastapi_contrib.serializers import openapi\n",
    "from fastapi_contrib.serializers.common import Serializer\n",
    "from yourapp.models import SomeModel\n",
    "app = FastAPI()\n",
    "class SomeModel(MongoDBModel):\n",
    "field1: str\n",
    "@openapi.patch\n",
    "class SomeSerializer(Serializer):\n",
    "read_only1: str = \"const\"\n",
    "write_only2: int\n",
    "not_visible: str = \"42\"\n",
    "class Meta:\n",
    "model = SomeModel\n",
    "exclude = {\"not_visible\"}\n",
    "write_only_fields = {\"write_only2\"}\n",
    "read_only_fields = {\"read_only1\"}\n",
    "@app.get(\"/\", response_model=SomeSerializer.response_model)\n",
    "async def root(serializer: SomeSerializer):\n",
    "model_instance = await serializer.save()\n",
    "return model_instance.dict()\n"
   ]
  },
  {
   "cell_type": "markdown",
   "id": "8503ba0f",
   "metadata": {},
   "source": [
    "#### POST-ing to this route following JSON:"
   ]
  },
  {
   "cell_type": "code",
   "execution_count": null,
   "id": "e57a883b",
   "metadata": {},
   "outputs": [],
   "source": [
    "{\"read_only1\": \"a\", \"write_only2\": 123, \"field1\": \"b\"}"
   ]
  },
  {
   "cell_type": "markdown",
   "id": "de939443",
   "metadata": {},
   "source": [
    "Should return following response:"
   ]
  },
  {
   "cell_type": "code",
   "execution_count": null,
   "id": "24628b76",
   "metadata": {},
   "outputs": [],
   "source": [
    "{\"id\": 1, \"field1\": \"b\", \"read_only1\": \"const\"}"
   ]
  }
 ],
 "metadata": {
  "kernelspec": {
   "display_name": "Python 3 (ipykernel)",
   "language": "python",
   "name": "python3"
  },
  "language_info": {
   "codemirror_mode": {
    "name": "ipython",
    "version": 3
   },
   "file_extension": ".py",
   "mimetype": "text/x-python",
   "name": "python",
   "nbconvert_exporter": "python",
   "pygments_lexer": "ipython3",
   "version": "3.11.4"
  }
 },
 "nbformat": 4,
 "nbformat_minor": 5
}
